{
  "nbformat": 4,
  "nbformat_minor": 0,
  "metadata": {
    "colab": {
      "provenance": [],
      "gpuType": "T4"
    },
    "kernelspec": {
      "name": "python3",
      "display_name": "Python 3"
    },
    "language_info": {
      "name": "python"
    },
    "accelerator": "GPU"
  },
  "cells": [
    {
      "cell_type": "code",
      "source": [
        "from google.colab import drive\n",
        "drive.mount('/content/drive')"
      ],
      "metadata": {
        "colab": {
          "base_uri": "https://localhost:8080/"
        },
        "id": "qiyLEQyqGK9z",
        "outputId": "ce3d0bc8-338e-4d15-a1a7-870748c1e4a1"
      },
      "execution_count": null,
      "outputs": [
        {
          "output_type": "stream",
          "name": "stdout",
          "text": [
            "Mounted at /content/drive\n"
          ]
        }
      ]
    },
    {
      "cell_type": "markdown",
      "source": [
        "## Chapter 6"
      ],
      "metadata": {
        "id": "UwP1zA75TOGO"
      }
    },
    {
      "cell_type": "markdown",
      "source": [
        "Exercise 1:"
      ],
      "metadata": {
        "id": "2ks__2WIS6Rv"
      }
    },
    {
      "cell_type": "code",
      "execution_count": null,
      "metadata": {
        "colab": {
          "base_uri": "https://localhost:8080/"
        },
        "id": "t3MmR8MW8gDa",
        "outputId": "33e371ad-a6c1-40d5-b6b1-a7bd56a77f01"
      },
      "outputs": [
        {
          "output_type": "stream",
          "name": "stdout",
          "text": [
            "n\n",
            "si\n",
            "Busi\n",
            "ness Analytics\n",
            "c\n",
            "ti\n",
            "cs\n",
            "Business Analyti\n"
          ]
        }
      ],
      "source": [
        "text = 'Business Analytics'\n",
        "\n",
        "print(text[4])      # Output is n\n",
        "print(text[2:4])    # Output is si\n",
        "print(text[:4])     # Output is Busi\n",
        "print(text[4:])     # Output is ness Analytics\n",
        "print(text[-2])     # Output is c\n",
        "print(text[-4:-2])  # Output is ti\n",
        "print(text[-2:])    # Output is cs\n",
        "print(text[:-2])    # Output is Business Analyti\n"
      ]
    },
    {
      "cell_type": "markdown",
      "source": [
        "Exercise 2:"
      ],
      "metadata": {
        "id": "qe81tR2KTHjM"
      }
    },
    {
      "cell_type": "code",
      "source": [
        "phrase = 'One Ring to rule them all'\n",
        "\n",
        "word1 = phrase[0:3]\n",
        "word2 = phrase[4:8]\n",
        "word3 = phrase[-3:]\n",
        "word4 = phrase[-8:-4]\n",
        "word5 = phrase[:]\n",
        "\n",
        "print(word1)\n",
        "print(word2)\n",
        "print(word3)\n",
        "print(word4)\n",
        "print(word5)"
      ],
      "metadata": {
        "colab": {
          "base_uri": "https://localhost:8080/"
        },
        "id": "FHPLO2cTBXf1",
        "outputId": "a2fd0a96-e8a1-4641-c9f1-ed5fe757f3c3"
      },
      "execution_count": null,
      "outputs": [
        {
          "output_type": "stream",
          "name": "stdout",
          "text": [
            "One\n",
            "Ring\n",
            "all\n",
            "them\n",
            "One Ring to rule them all\n"
          ]
        }
      ]
    },
    {
      "cell_type": "markdown",
      "source": [
        "## Challenge:"
      ],
      "metadata": {
        "id": "wxHkxfp8oQsI"
      }
    },
    {
      "cell_type": "markdown",
      "source": [
        "Write a program which repeatedly reads a full name, then does the following:\n",
        "\n",
        "strips the name of any trailing spaces\n",
        "capitalizes the first letter\n",
        "puts the rest into smaller letters"
      ],
      "metadata": {
        "id": "Uh351XAboTp0"
      }
    },
    {
      "cell_type": "code",
      "source": [
        "while True:\n",
        "    full_name = input(\"Enter a full name (or type 'q' to exit): \").strip() # Get user input for a full name\n",
        "    if full_name.lower() == 'q': #Check if the user wants to exit by typing 'q'\n",
        "        break # Break the loop if the user wants to exit\n",
        "    print(\"Formatted Name:\", full_name.strip().title()) #print\n",
        "\n"
      ],
      "metadata": {
        "id": "sMCY65UsoVlL",
        "colab": {
          "base_uri": "https://localhost:8080/"
        },
        "outputId": "2cde6993-3706-4673-8b67-898d0f70d9de"
      },
      "execution_count": 3,
      "outputs": [
        {
          "name": "stdout",
          "output_type": "stream",
          "text": [
            "Enter a full name (or type 'q' to exit): Fiona Mae Salazar\n",
            "Formatted Name: Fiona Mae Salazar\n",
            "Enter a full name (or type 'q' to exit): Juan Dela Cruz\n",
            "Formatted Name: Juan Dela Cruz\n",
            "Enter a full name (or type 'q' to exit): q\n"
          ]
        }
      ]
    }
  ]
}