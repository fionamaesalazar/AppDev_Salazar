{
  "nbformat": 4,
  "nbformat_minor": 0,
  "metadata": {
    "colab": {
      "provenance": [],
      "gpuType": "T4"
    },
    "kernelspec": {
      "name": "python3",
      "display_name": "Python 3"
    },
    "language_info": {
      "name": "python"
    },
    "accelerator": "GPU"
  },
  "cells": [
    {
      "cell_type": "markdown",
      "source": [
        "## Chapter 7"
      ],
      "metadata": {
        "id": "v9MtM3WDnEM1"
      }
    },
    {
      "cell_type": "code",
      "execution_count": 1,
      "metadata": {
        "id": "DyqUyL0Wm5R5",
        "colab": {
          "base_uri": "https://localhost:8080/"
        },
        "outputId": "46b01706-429c-41a8-cd78-1b00bbe4eb69"
      },
      "outputs": [
        {
          "output_type": "stream",
          "name": "stdout",
          "text": [
            "Mounted at /content/drive\n"
          ]
        }
      ],
      "source": [
        "from google.colab import drive\n",
        "drive.mount('/content/drive')"
      ]
    },
    {
      "cell_type": "code",
      "source": [
        "%cd /content/drive/MyDrive/PythonWorkbook#2"
      ],
      "metadata": {
        "colab": {
          "base_uri": "https://localhost:8080/"
        },
        "id": "y6QJs76UeP7B",
        "outputId": "0733dab4-dd85-4abf-a425-b5f66606aea7"
      },
      "execution_count": 2,
      "outputs": [
        {
          "output_type": "stream",
          "name": "stdout",
          "text": [
            "/content/drive/MyDrive/PythonWorkbook#2\n"
          ]
        }
      ]
    },
    {
      "cell_type": "markdown",
      "source": [
        "Exercise 1:"
      ],
      "metadata": {
        "id": "hqanbthWnLi5"
      }
    },
    {
      "cell_type": "markdown",
      "source": [
        "Write a program to read through a file and print the contents of the file (line by line) all in upper case."
      ],
      "metadata": {
        "id": "CpsvRy5znQCj"
      }
    },
    {
      "cell_type": "code",
      "source": [
        "with open('sample.txt', 'r') as file:\n",
        "    for line in file:\n",
        "        line = line.strip()\n",
        "        print(line.upper())"
      ],
      "metadata": {
        "colab": {
          "base_uri": "https://localhost:8080/"
        },
        "id": "oCpdcvGQnS19",
        "outputId": "69c7f44a-8136-46f9-ec2a-72a763a07585"
      },
      "execution_count": 3,
      "outputs": [
        {
          "output_type": "stream",
          "name": "stdout",
          "text": [
            "HELLO\n",
            "HI\n",
            "WELCOME\n",
            "HERE\n"
          ]
        }
      ]
    },
    {
      "cell_type": "markdown",
      "source": [
        "Exercise 2:"
      ],
      "metadata": {
        "id": "Y68YBTBYnxox"
      }
    },
    {
      "cell_type": "markdown",
      "source": [
        "Write a program to read through a file and output the number of lines in a file.\n"
      ],
      "metadata": {
        "id": "sAtZlgfonye_"
      }
    },
    {
      "cell_type": "code",
      "source": [
        "# Open the file for reading\n",
        "with open('sample.txt', 'r') as file:\n",
        "    line_count = 0\n",
        "\n",
        "    for line in file:\n",
        "        # Increment the line count for each line\n",
        "        line_count += 1\n",
        "\n",
        "# Print\n",
        "print(\"Number of lines in the file:\", line_count)\n"
      ],
      "metadata": {
        "colab": {
          "base_uri": "https://localhost:8080/"
        },
        "id": "VnhmUVu_n109",
        "outputId": "f8496f48-faba-44b3-c4d1-6ded022901dd"
      },
      "execution_count": null,
      "outputs": [
        {
          "output_type": "stream",
          "name": "stdout",
          "text": [
            "Number of lines in the file: 4\n"
          ]
        }
      ]
    },
    {
      "cell_type": "markdown",
      "source": [
        "## Challenge:\n"
      ],
      "metadata": {
        "id": "S0uxZZhYn-v_"
      }
    },
    {
      "cell_type": "markdown",
      "source": [
        "Write a program to prompt for a file name, and then read through the file and look for lines of the form: When you encounter a line that starts with \"X-DSPAM-Confidence:\" pull apart the line to extract the floating-point number on the line. Count these lines and then compute the total of the spam confidence values from these lines. When you reach the end of the file, print out the average spam confidence."
      ],
      "metadata": {
        "id": "zS0haa8ZoApS"
      }
    },
    {
      "cell_type": "code",
      "source": [
        "file_name = input(\"Enter the file name: \")\n",
        "\n",
        "count = 0 # Initialize variables\n",
        "total_spam_confidence = 0.0 # Initialize variables\n",
        "\n",
        "with open(file_name, 'r') as file: # Open the file for reading\n",
        "\n",
        "    for line in file: # Read each line in the file\n",
        "\n",
        "        if line.startswith(\"X-DSPAM-Confidence:\"): # Check if the line starts with \"X-DSPAM-Confidence:\"\n",
        "            spam_confidence = float(line.split(\":\")[1])\n",
        "            total_spam_confidence += spam_confidence\n",
        "            count += 1\n",
        "\n",
        "if count > 0: # Compute the average spam confidence\n",
        "    average_spam_confidence = total_spam_confidence / count\n",
        "    print(\"Average spam confidence:\", average_spam_confidence)\n",
        "else:\n",
        "    print(\"No lines starting with 'X-DSPAM-Confidence:' found in the file.\")\n"
      ],
      "metadata": {
        "colab": {
          "base_uri": "https://localhost:8080/"
        },
        "id": "5FtYcoXXoDoI",
        "outputId": "4ab8a48b-89bf-4112-852b-185ef7237b54"
      },
      "execution_count": 4,
      "outputs": [
        {
          "output_type": "stream",
          "name": "stdout",
          "text": [
            "Enter the file name: sample.txt\n",
            "No lines starting with 'X-DSPAM-Confidence:' found in the file.\n"
          ]
        }
      ]
    }
  ]
}