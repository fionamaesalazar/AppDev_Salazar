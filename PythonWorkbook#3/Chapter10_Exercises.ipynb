{
  "nbformat": 4,
  "nbformat_minor": 0,
  "metadata": {
    "colab": {
      "provenance": [],
      "gpuType": "T4",
      "toc_visible": true
    },
    "kernelspec": {
      "name": "python3",
      "display_name": "Python 3"
    },
    "language_info": {
      "name": "python"
    },
    "accelerator": "GPU"
  },
  "cells": [
    {
      "cell_type": "markdown",
      "source": [
        "## Chapter 10"
      ],
      "metadata": {
        "id": "DKQ1p1A9vWZo"
      }
    },
    {
      "cell_type": "code",
      "source": [
        "from google.colab import drive\n",
        "drive.mount('/content/drive')"
      ],
      "metadata": {
        "colab": {
          "base_uri": "https://localhost:8080/"
        },
        "id": "KQw6lpm4voB-",
        "outputId": "abd65e73-634c-4dad-bd26-e02f9f3f0fec"
      },
      "execution_count": 6,
      "outputs": [
        {
          "output_type": "stream",
          "name": "stdout",
          "text": [
            "Mounted at /content/drive\n"
          ]
        }
      ]
    },
    {
      "cell_type": "markdown",
      "source": [
        "#### Exercise 1\n",
        "\n",
        "Create a tuple with the following items: `1, 1, 2, 3, 5`. Feed the tuple to the `sum()` built-in function and check the result.\n"
      ],
      "metadata": {
        "id": "h9r5BVz4vZYd"
      }
    },
    {
      "cell_type": "code",
      "execution_count": 2,
      "metadata": {
        "id": "iKgJ_l-bvHi0",
        "colab": {
          "base_uri": "https://localhost:8080/"
        },
        "outputId": "fa60d097-216b-40e9-9004-7ce7ef00cbe3"
      },
      "outputs": [
        {
          "output_type": "stream",
          "name": "stdout",
          "text": [
            "Sum:  12\n"
          ]
        }
      ],
      "source": [
        "num = (1, 1, 2, 3, 5) # Create a tuple with the given items\n",
        "\n",
        "result = sum(num)\n",
        "\n",
        "# Print the result\n",
        "print(\"Sum: \" , result)"
      ]
    },
    {
      "cell_type": "markdown",
      "source": [
        "Exercise 2:"
      ],
      "metadata": {
        "id": "r9on-LOyva1_"
      }
    },
    {
      "cell_type": "markdown",
      "source": [
        "#### Exercise 2\n",
        "\n",
        "Unpack the following tuple into meaningful variables and display them\n",
        "\n",
        "```python\n",
        "ph_info = ('Philippines', 'Manila', 103.3) # The last number is the Population in Millions as of 2016\n",
        "```\n"
      ],
      "metadata": {
        "id": "bGDvuCiVvfsD"
      }
    },
    {
      "cell_type": "code",
      "source": [
        "ph_info = ('Philippines', 'Manila', 103.3) # Create a tuple with the given items\n",
        "\n",
        "country, city, population = ph_info #Unpack the tuple\n",
        "\n",
        "# Print\n",
        "print(\"Country:\", country)\n",
        "print(\"City:\" , city)\n",
        "print(\"Population in millions as of 2016:\", population)"
      ],
      "metadata": {
        "id": "Bq4LSVP5vgnT",
        "colab": {
          "base_uri": "https://localhost:8080/"
        },
        "outputId": "e159b50a-7764-4d60-89be-0be1259f3095"
      },
      "execution_count": 5,
      "outputs": [
        {
          "output_type": "stream",
          "name": "stdout",
          "text": [
            "Country: Philippines\n",
            "City: Manila\n",
            "Population in millions as of 2016: 103.3\n"
          ]
        }
      ]
    }
  ]
}