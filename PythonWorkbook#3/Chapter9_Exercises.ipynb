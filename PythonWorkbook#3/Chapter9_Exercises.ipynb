{
  "nbformat": 4,
  "nbformat_minor": 0,
  "metadata": {
    "colab": {
      "provenance": [],
      "gpuType": "T4"
    },
    "kernelspec": {
      "name": "python3",
      "display_name": "Python 3"
    },
    "language_info": {
      "name": "python"
    },
    "accelerator": "GPU"
  },
  "cells": [
    {
      "cell_type": "markdown",
      "source": [
        "## Chapter 9"
      ],
      "metadata": {
        "id": "e42zCflh-xm4"
      }
    },
    {
      "cell_type": "code",
      "source": [
        "from google.colab import drive\n",
        "drive.mount('/content/drive')"
      ],
      "metadata": {
        "colab": {
          "base_uri": "https://localhost:8080/"
        },
        "id": "pAAo4WGju2nV",
        "outputId": "9d24b2f9-a61e-4abc-8b5e-59949284df81"
      },
      "execution_count": null,
      "outputs": [
        {
          "output_type": "stream",
          "name": "stdout",
          "text": [
            "Mounted at /content/drive\n"
          ]
        }
      ]
    },
    {
      "cell_type": "markdown",
      "source": [
        "#### Exercise 1\n",
        "\n",
        "Create a dictionary with the following keys and values showing a partial list of Real GDP growth in Annual percent change from IMF (Source: http://www.imf.org/external/datamapper/NGDP_RPCH@WEO/OEMDC/ADVEC/WEOWORLD)\n",
        "\n",
        "    China 6.5\n",
        "    Japan 0.7\n",
        "    Philippines 6.7\n",
        "    United States 2.3"
      ],
      "metadata": {
        "id": "UqK1ehYDk0rZ"
      }
    },
    {
      "cell_type": "code",
      "source": [
        "RealGDP_growth = {} # A dictionary to store the GDP growth\n",
        "RealGDP_growth['China'] = 6.5 #Growth rate of China\n",
        "RealGDP_growth['Japan'] = 0.7 #Growth rate of Japan\n",
        "RealGDP_growth['Philippines'] = 6.7 #Growth rate of Philippines\n",
        "RealGDP_growth['United States'] = 2.3 #Growth rate of United States"
      ],
      "metadata": {
        "id": "w_fuGVdzqhfc"
      },
      "execution_count": null,
      "outputs": []
    },
    {
      "cell_type": "markdown",
      "source": [
        "Exercise 2:"
      ],
      "metadata": {
        "id": "F94iY7ustsKM"
      }
    },
    {
      "cell_type": "markdown",
      "source": [
        "Display all the keys and values from the dictionary you created above"
      ],
      "metadata": {
        "id": "lJKv6wldtttN"
      }
    },
    {
      "cell_type": "code",
      "source": [
        "for key in RealGDP_growth:\n",
        "    print(key, RealGDP_growth[key])"
      ],
      "metadata": {
        "colab": {
          "base_uri": "https://localhost:8080/"
        },
        "id": "8P8hXRA8tuKq",
        "outputId": "3efb810f-b079-41cf-fe8f-d00eb5c96f57"
      },
      "execution_count": null,
      "outputs": [
        {
          "output_type": "stream",
          "name": "stdout",
          "text": [
            "China 6.5\n",
            "Japan 0.7\n",
            "Philippines 6.7\n",
            "United States 2.3\n"
          ]
        }
      ]
    },
    {
      "cell_type": "markdown",
      "source": [
        "#### Exercise 3\n",
        "\n",
        "Write a program that asks the user to enter a line of text and then counts the number of each word that appeared in the line of text.\n",
        "Use the string function `split()` to make a list of words from a given string\n",
        "e.g.:\n",
        "\n",
        "```python\n",
        "word_list = line.split()\n",
        "```\n",
        "\n",
        "will return a list of words from the string `line` and store it in the variable `word_list`.\n",
        "\n",
        "\n",
        "(Adapted from [PES])"
      ],
      "metadata": {
        "id": "_VLdhsV-vPKK"
      }
    },
    {
      "cell_type": "code",
      "source": [
        "line = input(\"Enter a line of text: \")  # Ask the user to enter a line of text\n",
        "word_list = line.split()  # Split the line into words\n",
        "\n",
        "word_counts = {}\n",
        "\n",
        "\n",
        "for word in word_list: # Count the number of each word in the list\n",
        "\n",
        "    word_counts[word] = word_counts.get(word, 0) + 1 # Increment the count for this word in the dictionary\n",
        "\n",
        "\n",
        "for word, count in word_counts.items(): # Print the word counts\n",
        "    print(f\"'{word}' = {count}\")"
      ],
      "metadata": {
        "id": "atTgyRfzuutF",
        "colab": {
          "base_uri": "https://localhost:8080/"
        },
        "outputId": "9cc779ee-85ea-4c4e-db58-8782929429ca"
      },
      "execution_count": null,
      "outputs": [
        {
          "output_type": "stream",
          "name": "stdout",
          "text": [
            "Enter a line of text: I'am Fiona. I'am a BSCS student at ISAT U .\n",
            "'I'am' = 2\n",
            "'Fiona.' = 1\n",
            "'a' = 1\n",
            "'BSCS' = 1\n",
            "'student' = 1\n",
            "'at' = 1\n",
            "'ISAT' = 1\n",
            "'U' = 1\n",
            "'.' = 1\n"
          ]
        }
      ]
    }
  ]
}